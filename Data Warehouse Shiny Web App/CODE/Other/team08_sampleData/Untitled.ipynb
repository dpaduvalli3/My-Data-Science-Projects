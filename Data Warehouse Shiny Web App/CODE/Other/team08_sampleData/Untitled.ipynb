{
 "cells": [
  {
   "cell_type": "code",
   "execution_count": 1,
   "metadata": {
    "collapsed": true
   },
   "outputs": [],
   "source": [
    "import pandas as pd\n",
    "import numpy as np"
   ]
  },
  {
   "cell_type": "code",
   "execution_count": 3,
   "metadata": {},
   "outputs": [],
   "source": [
    "sales = pd.read_excel(\"Sample Data.xlsx\", sheet_name=\"Sales\")\n",
    "product = pd.read_excel(\"Sample Data.xlsx\", sheet_name=\"Products\")\n",
    "stores = pd.read_excel(\"Sample Data.xlsx\", sheet_name=\"Stores\")\n",
    "salePrices = pd.read_excel(\"Sample Data.xlsx\", sheet_name=\"Sale Prices\")\n",
    "holidays = pd.read_excel(\"Sample Data.xlsx\", sheet_name=\"Holidays\")"
   ]
  },
  {
   "cell_type": "code",
   "execution_count": 83,
   "metadata": {},
   "outputs": [],
   "source": [
    "## Report 3##\n",
    "report3 = pd.merge(sales, salePrices, how='left', on = ['productid', 'date'])"
   ]
  },
  {
   "cell_type": "code",
   "execution_count": 84,
   "metadata": {
    "collapsed": true
   },
   "outputs": [],
   "source": [
    "report3 = pd.merge(report3, product, on='productid')"
   ]
  },
  {
   "cell_type": "code",
   "execution_count": 85,
   "metadata": {},
   "outputs": [
    {
     "data": {
      "text/html": [
       "<div>\n",
       "<style scoped>\n",
       "    .dataframe tbody tr th:only-of-type {\n",
       "        vertical-align: middle;\n",
       "    }\n",
       "\n",
       "    .dataframe tbody tr th {\n",
       "        vertical-align: top;\n",
       "    }\n",
       "\n",
       "    .dataframe thead th {\n",
       "        text-align: right;\n",
       "    }\n",
       "</style>\n",
       "<table border=\"1\" class=\"dataframe\">\n",
       "  <thead>\n",
       "    <tr style=\"text-align: right;\">\n",
       "      <th></th>\n",
       "      <th>storeid</th>\n",
       "      <th>productid</th>\n",
       "      <th>date</th>\n",
       "      <th>quantity</th>\n",
       "      <th>saleprice</th>\n",
       "      <th>manufacturer</th>\n",
       "      <th>name</th>\n",
       "      <th>categoryname</th>\n",
       "      <th>retailprice</th>\n",
       "      <th>maxdiscount</th>\n",
       "      <th>Test</th>\n",
       "    </tr>\n",
       "  </thead>\n",
       "  <tbody>\n",
       "    <tr>\n",
       "      <th>0</th>\n",
       "      <td>590</td>\n",
       "      <td>112</td>\n",
       "      <td>2000-01-01</td>\n",
       "      <td>3</td>\n",
       "      <td>NaN</td>\n",
       "      <td>Rappickover WorldWide Company</td>\n",
       "      <td>Hapwerpor</td>\n",
       "      <td>CD</td>\n",
       "      <td>386.48</td>\n",
       "      <td>0.39</td>\n",
       "      <td>False</td>\n",
       "    </tr>\n",
       "    <tr>\n",
       "      <th>1</th>\n",
       "      <td>590</td>\n",
       "      <td>112</td>\n",
       "      <td>2000-01-01</td>\n",
       "      <td>3</td>\n",
       "      <td>NaN</td>\n",
       "      <td>Rappickover WorldWide Company</td>\n",
       "      <td>Hapwerpor</td>\n",
       "      <td>DVD</td>\n",
       "      <td>386.48</td>\n",
       "      <td>0.39</td>\n",
       "      <td>False</td>\n",
       "    </tr>\n",
       "    <tr>\n",
       "      <th>2</th>\n",
       "      <td>590</td>\n",
       "      <td>112</td>\n",
       "      <td>2000-01-01</td>\n",
       "      <td>3</td>\n",
       "      <td>NaN</td>\n",
       "      <td>Rappickover WorldWide Company</td>\n",
       "      <td>Hapwerpor</td>\n",
       "      <td>Video Camera</td>\n",
       "      <td>386.48</td>\n",
       "      <td>0.39</td>\n",
       "      <td>False</td>\n",
       "    </tr>\n",
       "    <tr>\n",
       "      <th>3</th>\n",
       "      <td>567</td>\n",
       "      <td>112</td>\n",
       "      <td>2000-02-27</td>\n",
       "      <td>7</td>\n",
       "      <td>NaN</td>\n",
       "      <td>Rappickover WorldWide Company</td>\n",
       "      <td>Hapwerpor</td>\n",
       "      <td>CD</td>\n",
       "      <td>386.48</td>\n",
       "      <td>0.39</td>\n",
       "      <td>False</td>\n",
       "    </tr>\n",
       "    <tr>\n",
       "      <th>4</th>\n",
       "      <td>567</td>\n",
       "      <td>112</td>\n",
       "      <td>2000-02-27</td>\n",
       "      <td>7</td>\n",
       "      <td>NaN</td>\n",
       "      <td>Rappickover WorldWide Company</td>\n",
       "      <td>Hapwerpor</td>\n",
       "      <td>DVD</td>\n",
       "      <td>386.48</td>\n",
       "      <td>0.39</td>\n",
       "      <td>False</td>\n",
       "    </tr>\n",
       "  </tbody>\n",
       "</table>\n",
       "</div>"
      ],
      "text/plain": [
       "   storeid  productid       date  quantity  saleprice  \\\n",
       "0      590        112 2000-01-01         3        NaN   \n",
       "1      590        112 2000-01-01         3        NaN   \n",
       "2      590        112 2000-01-01         3        NaN   \n",
       "3      567        112 2000-02-27         7        NaN   \n",
       "4      567        112 2000-02-27         7        NaN   \n",
       "\n",
       "                    manufacturer       name  categoryname  retailprice  \\\n",
       "0  Rappickover WorldWide Company  Hapwerpor            CD       386.48   \n",
       "1  Rappickover WorldWide Company  Hapwerpor           DVD       386.48   \n",
       "2  Rappickover WorldWide Company  Hapwerpor  Video Camera       386.48   \n",
       "3  Rappickover WorldWide Company  Hapwerpor            CD       386.48   \n",
       "4  Rappickover WorldWide Company  Hapwerpor           DVD       386.48   \n",
       "\n",
       "   maxdiscount   Test  \n",
       "0         0.39  False  \n",
       "1         0.39  False  \n",
       "2         0.39  False  \n",
       "3         0.39  False  \n",
       "4         0.39  False  "
      ]
     },
     "execution_count": 85,
     "metadata": {},
     "output_type": "execute_result"
    }
   ],
   "source": [
    "report3.head()"
   ]
  },
  {
   "cell_type": "code",
   "execution_count": 86,
   "metadata": {},
   "outputs": [],
   "source": [
    "#Create column to calculate percentagediscount\n",
    "import math\n",
    "def percent_discount(x, y):\n",
    "    '''\n",
    "    Function to compute % Discount. If saleprice is NaN, return 0 for % discount because this means that there was no sale price.\n",
    "    Else return the % discount.\n",
    "    '''\n",
    "    if math.isnan(y):\n",
    "        return 0\n",
    "    else:\n",
    "        return (x - y) / x\n",
    "#total2['percentagediscount'] = (total2['retailprice'] - total2['saleprice'])/total2['retailprice']\n",
    "report3['percentagediscount'] = report3[['retailprice', 'saleprice']].apply(lambda x: percent_discount(*x), axis=1)"
   ]
  },
  {
   "cell_type": "code",
   "execution_count": 87,
   "metadata": {},
   "outputs": [
    {
     "data": {
      "text/html": [
       "<div>\n",
       "<style scoped>\n",
       "    .dataframe tbody tr th:only-of-type {\n",
       "        vertical-align: middle;\n",
       "    }\n",
       "\n",
       "    .dataframe tbody tr th {\n",
       "        vertical-align: top;\n",
       "    }\n",
       "\n",
       "    .dataframe thead th {\n",
       "        text-align: right;\n",
       "    }\n",
       "</style>\n",
       "<table border=\"1\" class=\"dataframe\">\n",
       "  <thead>\n",
       "    <tr style=\"text-align: right;\">\n",
       "      <th></th>\n",
       "      <th>storeid</th>\n",
       "      <th>productid</th>\n",
       "      <th>date</th>\n",
       "      <th>quantity</th>\n",
       "      <th>saleprice</th>\n",
       "      <th>manufacturer</th>\n",
       "      <th>name</th>\n",
       "      <th>categoryname</th>\n",
       "      <th>retailprice</th>\n",
       "      <th>maxdiscount</th>\n",
       "      <th>Test</th>\n",
       "      <th>percentagediscount</th>\n",
       "    </tr>\n",
       "  </thead>\n",
       "  <tbody>\n",
       "    <tr>\n",
       "      <th>0</th>\n",
       "      <td>590</td>\n",
       "      <td>112</td>\n",
       "      <td>2000-01-01</td>\n",
       "      <td>3</td>\n",
       "      <td>NaN</td>\n",
       "      <td>Rappickover WorldWide Company</td>\n",
       "      <td>Hapwerpor</td>\n",
       "      <td>CD</td>\n",
       "      <td>386.48</td>\n",
       "      <td>0.39</td>\n",
       "      <td>False</td>\n",
       "      <td>0.0</td>\n",
       "    </tr>\n",
       "    <tr>\n",
       "      <th>1</th>\n",
       "      <td>590</td>\n",
       "      <td>112</td>\n",
       "      <td>2000-01-01</td>\n",
       "      <td>3</td>\n",
       "      <td>NaN</td>\n",
       "      <td>Rappickover WorldWide Company</td>\n",
       "      <td>Hapwerpor</td>\n",
       "      <td>DVD</td>\n",
       "      <td>386.48</td>\n",
       "      <td>0.39</td>\n",
       "      <td>False</td>\n",
       "      <td>0.0</td>\n",
       "    </tr>\n",
       "    <tr>\n",
       "      <th>2</th>\n",
       "      <td>590</td>\n",
       "      <td>112</td>\n",
       "      <td>2000-01-01</td>\n",
       "      <td>3</td>\n",
       "      <td>NaN</td>\n",
       "      <td>Rappickover WorldWide Company</td>\n",
       "      <td>Hapwerpor</td>\n",
       "      <td>Video Camera</td>\n",
       "      <td>386.48</td>\n",
       "      <td>0.39</td>\n",
       "      <td>False</td>\n",
       "      <td>0.0</td>\n",
       "    </tr>\n",
       "    <tr>\n",
       "      <th>3</th>\n",
       "      <td>567</td>\n",
       "      <td>112</td>\n",
       "      <td>2000-02-27</td>\n",
       "      <td>7</td>\n",
       "      <td>NaN</td>\n",
       "      <td>Rappickover WorldWide Company</td>\n",
       "      <td>Hapwerpor</td>\n",
       "      <td>CD</td>\n",
       "      <td>386.48</td>\n",
       "      <td>0.39</td>\n",
       "      <td>False</td>\n",
       "      <td>0.0</td>\n",
       "    </tr>\n",
       "    <tr>\n",
       "      <th>4</th>\n",
       "      <td>567</td>\n",
       "      <td>112</td>\n",
       "      <td>2000-02-27</td>\n",
       "      <td>7</td>\n",
       "      <td>NaN</td>\n",
       "      <td>Rappickover WorldWide Company</td>\n",
       "      <td>Hapwerpor</td>\n",
       "      <td>DVD</td>\n",
       "      <td>386.48</td>\n",
       "      <td>0.39</td>\n",
       "      <td>False</td>\n",
       "      <td>0.0</td>\n",
       "    </tr>\n",
       "  </tbody>\n",
       "</table>\n",
       "</div>"
      ],
      "text/plain": [
       "   storeid  productid       date  quantity  saleprice  \\\n",
       "0      590        112 2000-01-01         3        NaN   \n",
       "1      590        112 2000-01-01         3        NaN   \n",
       "2      590        112 2000-01-01         3        NaN   \n",
       "3      567        112 2000-02-27         7        NaN   \n",
       "4      567        112 2000-02-27         7        NaN   \n",
       "\n",
       "                    manufacturer       name  categoryname  retailprice  \\\n",
       "0  Rappickover WorldWide Company  Hapwerpor            CD       386.48   \n",
       "1  Rappickover WorldWide Company  Hapwerpor           DVD       386.48   \n",
       "2  Rappickover WorldWide Company  Hapwerpor  Video Camera       386.48   \n",
       "3  Rappickover WorldWide Company  Hapwerpor            CD       386.48   \n",
       "4  Rappickover WorldWide Company  Hapwerpor           DVD       386.48   \n",
       "\n",
       "   maxdiscount   Test  percentagediscount  \n",
       "0         0.39  False                 0.0  \n",
       "1         0.39  False                 0.0  \n",
       "2         0.39  False                 0.0  \n",
       "3         0.39  False                 0.0  \n",
       "4         0.39  False                 0.0  "
      ]
     },
     "execution_count": 87,
     "metadata": {},
     "output_type": "execute_result"
    }
   ],
   "source": [
    "report3.head()"
   ]
  },
  {
   "cell_type": "code",
   "execution_count": 114,
   "metadata": {},
   "outputs": [
    {
     "name": "stdout",
     "output_type": "stream",
     "text": [
      "Sale Items Purchased\n",
      "13\n",
      "-----\n",
      "Full price items purchased\n",
      "86\n"
     ]
    }
   ],
   "source": [
    "## Check first row (Supbanantor row) ##\n",
    "\n",
    "##Check that product id 25244 and price 8792.66 has 13 sale items purchased and 86 retail items purchased\n",
    "check1 = report3[(report3['productid'] == 25244) & (report3['retailprice'] == 8792.66)]\n",
    "print(\"Sale Items Purchased\")\n",
    "print(check1[check1['saleprice'].notnull()][['storeid', 'quantity']].drop_duplicates()['quantity'].sum())\n",
    "print(\"-----\")\n",
    "print(\"Full price items purchased\")\n",
    "print(check1[check1['saleprice'].isnull()][['storeid', 'quantity']].drop_duplicates()['quantity'].sum())\n",
    "print(\"-----\")\n",
    "print(\"actual revenue\")"
   ]
  },
  {
   "cell_type": "code",
   "execution_count": 129,
   "metadata": {},
   "outputs": [
    {
     "data": {
      "text/plain": [
       "101"
      ]
     },
     "execution_count": 129,
     "metadata": {},
     "output_type": "execute_result"
    }
   ],
   "source": [
    "#Check actual revenue\n",
    "report3[(report3['categoryname'] == 'GPS') & (report3['name'] == 'Inkilentor') & (report3['percentagediscount'] == 0)]"
   ]
  },
  {
   "cell_type": "code",
   "execution_count": null,
   "metadata": {
    "collapsed": true
   },
   "outputs": [],
   "source": []
  }
 ],
 "metadata": {
  "kernelspec": {
   "display_name": "Python 3",
   "language": "python",
   "name": "python3"
  },
  "language_info": {
   "codemirror_mode": {
    "name": "ipython",
    "version": 3
   },
   "file_extension": ".py",
   "mimetype": "text/x-python",
   "name": "python",
   "nbconvert_exporter": "python",
   "pygments_lexer": "ipython3",
   "version": "3.6.3"
  }
 },
 "nbformat": 4,
 "nbformat_minor": 2
}
